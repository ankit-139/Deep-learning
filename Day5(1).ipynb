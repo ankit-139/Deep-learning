{
 "cells": [
  {
   "cell_type": "code",
   "execution_count": 1,
   "id": "3da0acd6",
   "metadata": {},
   "outputs": [],
   "source": [
    "import keras\n",
    "from keras.models import Sequential\n",
    "from keras.layers import Dense,Dropout,Flatten\n",
    "from keras.layers import Conv2D,MaxPool2D\n",
    "from keras import backend as k"
   ]
  },
  {
   "cell_type": "code",
   "execution_count": 2,
   "id": "8ad9b4f8",
   "metadata": {},
   "outputs": [],
   "source": [
    "batch_size=128\n",
    "num_classes=10\n",
    "epochs=12\n"
   ]
  },
  {
   "cell_type": "code",
   "execution_count": 3,
   "id": "893d270a",
   "metadata": {},
   "outputs": [],
   "source": [
    "#input image dimensions\n",
    "img_rows,img_cols=28,28"
   ]
  },
  {
   "cell_type": "code",
   "execution_count": 4,
   "id": "ba7ca9b4",
   "metadata": {},
   "outputs": [],
   "source": [
    "#load mnist dataset from keras\n",
    "from keras.datasets import mnist\n",
    "#download mnist data and split into train & test sets\n",
    "(xtrain,ytrain),(xtest,ytest)=mnist.load_data()"
   ]
  },
  {
   "cell_type": "code",
   "execution_count": 5,
   "id": "b47a85a3",
   "metadata": {},
   "outputs": [
    {
     "name": "stdout",
     "output_type": "stream",
     "text": [
      "Training set images shape: (60000, 28, 28)\n",
      "Training set labels shape: (60000,)\n",
      "Test set images shape: (10000, 28, 28)\n",
      "Test set labels shape: (10000,)\n"
     ]
    }
   ],
   "source": [
    "print('Training set images shape: {}'.format(xtrain.shape))\n",
    "print('Training set labels shape: {}'.format(ytrain.shape))\n",
    "print('Test set images shape: {}'.format(xtest.shape))\n",
    "print('Test set labels shape: {}'.format(ytest.shape))\n"
   ]
  },
  {
   "cell_type": "code",
   "execution_count": 6,
   "id": "88205d6d",
   "metadata": {},
   "outputs": [
    {
     "data": {
      "text/plain": [
       "<matplotlib.image.AxesImage at 0x17718e42190>"
      ]
     },
     "execution_count": 6,
     "metadata": {},
     "output_type": "execute_result"
    },
    {
     "data": {
      "image/png": "[encoded data removed]",
      "text/plain": [
       "<Figure size 640x480 with 1 Axes>"
      ]
     },
     "metadata": {},
     "output_type": "display_data"
    }
   ],
   "source": [
    "import matplotlib.pyplot as plt\n",
    "plt.imshow(xtrain[4])"
   ]
  },
  {
   "cell_type": "code",
   "execution_count": 7,
   "id": "0210c6a8",
   "metadata": {},
   "outputs": [
    {
     "data": {
      "text/plain": [
       "(28, 28)"
      ]
     },
     "execution_count": 7,
     "metadata": {},
     "output_type": "execute_result"
    }
   ],
   "source": [
    "xtrain[0].shape"
   ]
  },
  {
   "cell_type": "code",
   "execution_count": 8,
   "id": "24ba86e5",
   "metadata": {},
   "outputs": [
    {
     "name": "stdout",
     "output_type": "stream",
     "text": [
      "(60000, 28, 28, 1)\n",
      "(10000, 28, 28, 1)\n"
     ]
    }
   ],
   "source": [
    "#reshape data to fit model\n",
    "xtrain=xtrain.reshape(xtrain.shape[0],img_rows,img_cols,1)\n",
    "xtest=xtest.reshape(xtest.shape[0],img_rows,img_cols,1)\n",
    "print(xtrain.shape)\n",
    "print(xtest.shape)"
   ]
  },
  {
   "cell_type": "code",
   "execution_count": 9,
   "id": "3bab086c",
   "metadata": {},
   "outputs": [],
   "source": [
    "xtrain=xtrain.astype('float32')\n",
    "xtest=xtest.astype('float32')"
   ]
  },
  {
   "cell_type": "code",
   "execution_count": 10,
   "id": "da84c541",
   "metadata": {},
   "outputs": [],
   "source": [
    "xtrain/=255\n",
    "xtest/=255"
   ]
  },
  {
   "cell_type": "code",
   "execution_count": 11,
   "id": "0b478356",
   "metadata": {},
   "outputs": [
    {
     "name": "stdout",
     "output_type": "stream",
     "text": [
      "xtrain shape: (60000, 28, 28, 1)\n",
      "60000 train samples\n",
      "10000 test samples\n"
     ]
    }
   ],
   "source": [
    "print('xtrain shape:',xtrain.shape)\n",
    "print(xtrain.shape[0],'train samples')\n",
    "print(xtest.shape[0],'test samples')"
   ]
  },
  {
   "cell_type": "code",
   "execution_count": 12,
   "id": "89fb51ab",
   "metadata": {},
   "outputs": [],
   "source": [
    "#Convert class vectors to binary class matrices\n",
    "ytrain=keras.utils.to_categorical(ytrain)\n",
    "ytest=keras.utils.to_categorical(ytest)\n"
   ]
  },
  {
   "cell_type": "code",
   "execution_count": 13,
   "id": "f422ebd7",
   "metadata": {},
   "outputs": [
    {
     "data": {
      "text/plain": [
       "array([0., 0., 0., 0., 0., 1., 0., 0., 0., 0.], dtype=float32)"
      ]
     },
     "execution_count": 13,
     "metadata": {},
     "output_type": "execute_result"
    }
   ],
   "source": [
    "ytrain[0]"
   ]
  },
  {
   "cell_type": "code",
   "execution_count": null,
   "id": "78978d5e",
   "metadata": {},
   "outputs": [],
   "source": [
    "# Build CNN model"
   ]
  },
  {
   "cell_type": "code",
   "execution_count": 14,
   "id": "30205460",
   "metadata": {},
   "outputs": [],
   "source": [
    "model=Sequential()\n",
    "#add model layers\n",
    "model.add(Conv2D(64,kernel_size=3,activation='relu',input_shape=(28,28,1)))\n",
    "model.add(Dropout(0.2))\n",
    "model.add(Conv2D(32,kernel_size=3,activation='relu'))\n",
    "model.add(MaxPool2D(pool_size=(2,2)))\n",
    "model.add(Flatten())\n",
    "#output layer\n",
    "model.add(Dense(10,activation='softmax'))"
   ]
  },
  {
   "cell_type": "code",
   "execution_count": 15,
   "id": "b08ff7f3",
   "metadata": {},
   "outputs": [
    {
     "name": "stdout",
     "output_type": "stream",
     "text": [
      "Model: \"sequential\"\n",
      "_________________________________________________________________\n",
      " Layer (type)                Output Shape              Param #   \n",
      "=================================================================\n",
      " conv2d (Conv2D)             (None, 26, 26, 64)        640       \n",
      "                                                                 \n",
      " dropout (Dropout)           (None, 26, 26, 64)        0         \n",
      "                                                                 \n",
      " conv2d_1 (Conv2D)           (None, 24, 24, 32)        18464     \n",
      "                                                                 \n",
      " max_pooling2d (MaxPooling2  (None, 12, 12, 32)        0         \n",
      " D)                                                              \n",
      "                                                                 \n",
      " flatten (Flatten)           (None, 4608)              0         \n",
      "                                                                 \n",
      " dense (Dense)               (None, 10)                46090     \n",
      "                                                                 \n",
      "=================================================================\n",
      "Total params: 65194 (254.66 KB)\n",
      "Trainable params: 65194 (254.66 KB)\n",
      "Non-trainable params: 0 (0.00 Byte)\n",
      "_________________________________________________________________\n"
     ]
    }
   ],
   "source": [
    "model.summary()"
   ]
  },
  {
   "cell_type": "code",
   "execution_count": 16,
   "id": "709409ed",
   "metadata": {},
   "outputs": [],
   "source": [
    "#compile\n",
    "model.compile(optimizer=keras.optimizers.Adam(),loss=keras.losses.categorical_crossentropy,\n",
    " metrics=['accuracy'] )"
   ]
  },
  {
   "cell_type": "code",
   "execution_count": 17,
   "id": "e44e6e05",
   "metadata": {},
   "outputs": [
    {
     "name": "stdout",
     "output_type": "stream",
     "text": [
      "Epoch 1/5\n",
      "469/469 [==============================] - 89s 188ms/step - loss: 0.2503 - accuracy: 0.9271 - val_loss: 0.0791 - val_accuracy: 0.9778\n",
      "Epoch 2/5\n",
      "469/469 [==============================] - 91s 195ms/step - loss: 0.0772 - accuracy: 0.9775 - val_loss: 0.0599 - val_accuracy: 0.9804\n",
      "Epoch 3/5\n",
      "469/469 [==============================] - 89s 189ms/step - loss: 0.0544 - accuracy: 0.9837 - val_loss: 0.0443 - val_accuracy: 0.9852\n",
      "Epoch 4/5\n",
      "469/469 [==============================] - 90s 191ms/step - loss: 0.0423 - accuracy: 0.9868 - val_loss: 0.0403 - val_accuracy: 0.9873\n",
      "Epoch 5/5\n",
      "469/469 [==============================] - 89s 190ms/step - loss: 0.0356 - accuracy: 0.9888 - val_loss: 0.0441 - val_accuracy: 0.9861\n"
     ]
    }
   ],
   "source": [
    "result=model.fit(xtrain,ytrain,batch_size=batch_size,epochs=5,verbose=1,\n",
    " validation_data=(xtest,ytest))"
   ]
  },
  {
   "cell_type": "code",
   "execution_count": 18,
   "id": "310a610e",
   "metadata": {},
   "outputs": [
    {
     "name": "stdout",
     "output_type": "stream",
     "text": [
      "Test Loss: 0.04411500692367554\n",
      "\n",
      "Test Accuracy: 0.9861000180244446\n"
     ]
    }
   ],
   "source": [
    "score=model.evaluate(xtest,ytest,verbose=0)\n",
    "print('Test Loss:',score[0])\n",
    "print()\n",
    "print('Test Accuracy:',score[1])\n"
   ]
  },
  {
   "cell_type": "code",
   "execution_count": 19,
   "id": "7f80ef86",
   "metadata": {},
   "outputs": [
    {
     "data": {
      "text/plain": [
       "dict_keys(['loss', 'accuracy', 'val_loss', 'val_accuracy'])"
      ]
     },
     "execution_count": 19,
     "metadata": {},
     "output_type": "execute_result"
    }
   ],
   "source": [
    "result.history.keys()"
   ]
  },
  {
   "cell_type": "code",
   "execution_count": 20,
   "id": "4faeaf4c",
   "metadata": {},
   "outputs": [
    {
     "data": {
      "text/plain": [
       "<matplotlib.legend.Legend at 0x177308bc310>"
      ]
     },
     "execution_count": 20,
     "metadata": {},
     "output_type": "execute_result"
    },
    {
     "data": {
      "image/png": "[encoded data removed]",
      "text/plain": [
       "<Figure size 1600x500 with 2 Axes>"
      ]
     },
     "metadata": {},
     "output_type": "display_data"
    }
   ],
   "source": [
    "import matplotlib.pyplot as plt\n",
    "fig,(ax1,ax2)=plt.subplots(nrows=1,ncols=2,figsize=(16,5))\n",
    "#plot training & validation accuracy values\n",
    "ax1.plot(result.history['accuracy'])\n",
    "ax1.plot(result.history['val_accuracy'])\n",
    "ax1.set_title('Model Performance')\n",
    "ax1.set_ylabel('accuracy')\n",
    "ax1.set_xlabel('Epochs')\n",
    "ax1.legend(['Train','Test'])\n",
    "#plot training & validation loss values\n",
    "ax2.plot(result.history['loss'])\n",
    "ax2.plot(result.history['val_loss'])\n",
    "ax2.set_title('Model Loss')\n",
    "ax2.set_ylabel('Loss')\n",
    "ax2.set_xlabel('Epochs')\n",
    "ax2.legend(['Train','Test'])"
   ]
  },
  {
   "cell_type": "code",
   "execution_count": 21,
   "id": "ff828f44",
   "metadata": {},
   "outputs": [
    {
     "name": "stdout",
     "output_type": "stream",
     "text": [
      "1/1 [==============================] - 0s 172ms/step\n"
     ]
    },
    {
     "data": {
      "text/plain": [
       "array([[3.0275955e-11, 3.5867288e-11, 1.1552745e-08, 1.9953875e-06,\n",
       "        3.6229060e-12, 1.0915254e-10, 8.9364571e-19, 9.9999774e-01,\n",
       "        2.0036337e-09, 1.9990568e-07],\n",
       "       [3.4821321e-07, 4.2261590e-06, 9.9999428e-01, 3.0888764e-08,\n",
       "        1.7452798e-12, 9.3564594e-11, 8.3024975e-07, 6.9628942e-12,\n",
       "        2.3162795e-07, 4.4770051e-12],\n",
       "       [3.3025826e-06, 9.9868852e-01, 1.8368971e-04, 9.3817507e-06,\n",
       "        7.6494185e-04, 7.1911663e-06, 5.3262233e-06, 1.4174785e-04,\n",
       "        1.9137849e-04, 4.5328347e-06],\n",
       "       [9.9994409e-01, 1.9798123e-11, 7.4183095e-06, 4.7562644e-08,\n",
       "        2.4273355e-08, 7.0521601e-08, 4.4523873e-05, 3.6273932e-06,\n",
       "        1.2013484e-07, 1.6799439e-07]], dtype=float32)"
      ]
     },
     "execution_count": 21,
     "metadata": {},
     "output_type": "execute_result"
    }
   ],
   "source": [
    "ypred=model.predict(xtest[:4])\n",
    "ypred"
   ]
  },
  {
   "cell_type": "code",
   "execution_count": 22,
   "id": "0c46be46",
   "metadata": {},
   "outputs": [
    {
     "data": {
      "text/plain": [
       "array([[0., 0., 0., 0., 0., 0., 0., 1., 0., 0.],\n",
       "       [0., 0., 1., 0., 0., 0., 0., 0., 0., 0.],\n",
       "       [0., 1., 0., 0., 0., 0., 0., 0., 0., 0.],\n",
       "       [1., 0., 0., 0., 0., 0., 0., 0., 0., 0.]], dtype=float32)"
      ]
     },
     "execution_count": 22,
     "metadata": {},
     "output_type": "execute_result"
    }
   ],
   "source": [
    "ytest[:4]"
   ]
  },
  {
   "cell_type": "code",
   "execution_count": null,
   "id": "3096872e",
   "metadata": {},
   "outputs": [],
   "source": []
  },
  {
   "cell_type": "code",
   "execution_count": null,
   "id": "692b1234",
   "metadata": {},
   "outputs": [],
   "source": []
  },
  {
   "cell_type": "code",
   "execution_count": null,
   "id": "6d23c157",
   "metadata": {},
   "outputs": [],
   "source": []
  },
  {
   "cell_type": "code",
   "execution_count": null,
   "id": "5c350f4a",
   "metadata": {},
   "outputs": [],
   "source": []
  }
 ],
 "metadata": {
  "kernelspec": {
   "display_name": "Python 3 (ipykernel)",
   "language": "python",
   "name": "python3"
  },
  "language_info": {
   "codemirror_mode": {
    "name": "ipython",
    "version": 3
   },
   "file_extension": ".py",
   "mimetype": "text/x-python",
   "name": "python",
   "nbconvert_exporter": "python",
   "pygments_lexer": "ipython3",
   "version": "3.11.4"
  }
 },
 "nbformat": 4,
 "nbformat_minor": 5
}
