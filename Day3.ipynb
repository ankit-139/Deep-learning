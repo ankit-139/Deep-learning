{
 "cells": [
  {
   "cell_type": "code",
   "execution_count": 1,
   "id": "8dc8c498",
   "metadata": {},
   "outputs": [],
   "source": [
    "#Build a deep learning model to classify the mnist digits dataset with Batch Normalization."
   ]
  },
  {
   "cell_type": "code",
   "execution_count": 2,
   "id": "cc0c7ed5",
   "metadata": {},
   "outputs": [],
   "source": [
    "import tensorflow as tf\n",
    "from tensorflow.keras import layers, models\n",
    "from tensorflow.keras.datasets import mnist\n",
    "from tensorflow.keras.utils import to_categorical\n",
    "from sklearn.model_selection import train_test_split"
   ]
  },
  {
   "cell_type": "code",
   "execution_count": 3,
   "id": "3d2099a7",
   "metadata": {},
   "outputs": [],
   "source": [
    "# Load and preprocess the MNIST dataset\n",
    "(train_images, train_labels), (test_images, test_labels) = mnist.load_data()\n",
    "train_images = train_images.reshape((60000, 28, 28, 1)).astype('float32') / 255\n",
    "test_images = test_images.reshape((10000, 28, 28, 1)).astype('float32') / 255\n",
    "train_labels = to_categorical(train_labels)\n",
    "test_labels = to_categorical(test_labels)"
   ]
  },
  {
   "cell_type": "code",
   "execution_count": 4,
   "id": "e0677a68",
   "metadata": {},
   "outputs": [],
   "source": [
    "# Split the training data into training and validation sets\n",
    "train_images, val_images, train_labels, val_labels = train_test_split(\n",
    "    train_images, train_labels, test_size=0.1, random_state=42)"
   ]
  },
  {
   "cell_type": "code",
   "execution_count": 5,
   "id": "d44e2f36",
   "metadata": {},
   "outputs": [],
   "source": [
    "# Build the deep learning model with Batch Normalization\n",
    "def build_model(optimizer):\n",
    "    model = models.Sequential()\n",
    "    model.add(layers.Conv2D(32, (3, 3), activation='relu', input_shape=(28, 28, 1)))\n",
    "    model.add(layers.BatchNormalization())\n",
    "    model.add(layers.MaxPooling2D((2, 2)))\n",
    "    model.add(layers.Conv2D(64, (3, 3), activation='relu'))\n",
    "    model.add(layers.BatchNormalization())\n",
    "    model.add(layers.MaxPooling2D((2, 2)))\n",
    "    model.add(layers.Conv2D(64, (3, 3), activation='relu'))\n",
    "    model.add(layers.BatchNormalization())\n",
    "    model.add(layers.Flatten())\n",
    "    model.add(layers.Dense(64, activation='relu'))\n",
    "    model.add(layers.BatchNormalization())\n",
    "    model.add(layers.Dense(10, activation='softmax'))\n",
    "\n",
    "    model.compile(optimizer=optimizer,\n",
    "                  loss='categorical_crossentropy',\n",
    "                  metrics=['accuracy'])\n",
    "    return model"
   ]
  },
  {
   "cell_type": "code",
   "execution_count": 6,
   "id": "547b01c7",
   "metadata": {},
   "outputs": [
    {
     "name": "stdout",
     "output_type": "stream",
     "text": [
      "Training model with sgd optimizer...\n",
      "Epoch 1/10\n",
      "844/844 [==============================] - 28s 31ms/step - loss: 0.2162 - accuracy: 0.9446 - val_loss: 0.0985 - val_accuracy: 0.9757\n",
      "Epoch 2/10\n",
      "844/844 [==============================] - 25s 29ms/step - loss: 0.0823 - accuracy: 0.9787 - val_loss: 0.0654 - val_accuracy: 0.9840\n",
      "Epoch 3/10\n",
      "844/844 [==============================] - 24s 29ms/step - loss: 0.0596 - accuracy: 0.9845 - val_loss: 0.0579 - val_accuracy: 0.9833\n",
      "Epoch 4/10\n",
      "844/844 [==============================] - 26s 31ms/step - loss: 0.0478 - accuracy: 0.9877 - val_loss: 0.0508 - val_accuracy: 0.9842\n",
      "Epoch 5/10\n",
      "844/844 [==============================] - 25s 29ms/step - loss: 0.0394 - accuracy: 0.9902 - val_loss: 0.0446 - val_accuracy: 0.9868\n",
      "Epoch 6/10\n",
      "844/844 [==============================] - 25s 29ms/step - loss: 0.0338 - accuracy: 0.9917 - val_loss: 0.0450 - val_accuracy: 0.9870\n",
      "Epoch 7/10\n",
      "844/844 [==============================] - 24s 29ms/step - loss: 0.0287 - accuracy: 0.9932 - val_loss: 0.0393 - val_accuracy: 0.9893\n",
      "Epoch 8/10\n",
      "844/844 [==============================] - 25s 29ms/step - loss: 0.0253 - accuracy: 0.9943 - val_loss: 0.0368 - val_accuracy: 0.9895\n",
      "Epoch 9/10\n",
      "844/844 [==============================] - 24s 29ms/step - loss: 0.0217 - accuracy: 0.9954 - val_loss: 0.0374 - val_accuracy: 0.9887\n",
      "Epoch 10/10\n",
      "844/844 [==============================] - 25s 29ms/step - loss: 0.0196 - accuracy: 0.9959 - val_loss: 0.0360 - val_accuracy: 0.9890\n",
      "313/313 - 1s - loss: 0.0345 - accuracy: 0.9891 - 1s/epoch - 5ms/step\n",
      "Test accuracy with sgd optimizer: 0.9890999794006348\n",
      "\n",
      "Training model with adam optimizer...\n",
      "Epoch 1/10\n",
      "844/844 [==============================] - 27s 30ms/step - loss: 0.1230 - accuracy: 0.9641 - val_loss: 0.0546 - val_accuracy: 0.9817\n",
      "Epoch 2/10\n",
      "844/844 [==============================] - 26s 31ms/step - loss: 0.0412 - accuracy: 0.9873 - val_loss: 0.0446 - val_accuracy: 0.9862\n",
      "Epoch 3/10\n",
      "844/844 [==============================] - 26s 31ms/step - loss: 0.0294 - accuracy: 0.9909 - val_loss: 0.0399 - val_accuracy: 0.9867\n",
      "Epoch 4/10\n",
      "844/844 [==============================] - 25s 30ms/step - loss: 0.0211 - accuracy: 0.9934 - val_loss: 0.0328 - val_accuracy: 0.9893\n",
      "Epoch 5/10\n",
      "844/844 [==============================] - 25s 29ms/step - loss: 0.0184 - accuracy: 0.9940 - val_loss: 0.0367 - val_accuracy: 0.9893\n",
      "Epoch 6/10\n",
      "844/844 [==============================] - 25s 30ms/step - loss: 0.0144 - accuracy: 0.9954 - val_loss: 0.0403 - val_accuracy: 0.9885\n",
      "Epoch 7/10\n",
      "844/844 [==============================] - 26s 30ms/step - loss: 0.0123 - accuracy: 0.9960 - val_loss: 0.0345 - val_accuracy: 0.9893\n",
      "Epoch 8/10\n",
      "844/844 [==============================] - 26s 30ms/step - loss: 0.0119 - accuracy: 0.9964 - val_loss: 0.0474 - val_accuracy: 0.9873\n",
      "Epoch 9/10\n",
      "844/844 [==============================] - 25s 30ms/step - loss: 0.0086 - accuracy: 0.9972 - val_loss: 0.0311 - val_accuracy: 0.9920\n",
      "Epoch 10/10\n",
      "844/844 [==============================] - 25s 30ms/step - loss: 0.0086 - accuracy: 0.9971 - val_loss: 0.0521 - val_accuracy: 0.9873\n",
      "313/313 - 2s - loss: 0.0440 - accuracy: 0.9877 - 2s/epoch - 5ms/step\n",
      "Test accuracy with adam optimizer: 0.9876999855041504\n",
      "\n",
      "Training model with rmsprop optimizer...\n",
      "Epoch 1/10\n",
      "844/844 [==============================] - 28s 31ms/step - loss: 0.1023 - accuracy: 0.9700 - val_loss: 0.0658 - val_accuracy: 0.9810\n",
      "Epoch 2/10\n",
      "844/844 [==============================] - 26s 31ms/step - loss: 0.0374 - accuracy: 0.9888 - val_loss: 0.0453 - val_accuracy: 0.9860\n",
      "Epoch 3/10\n",
      "844/844 [==============================] - 26s 31ms/step - loss: 0.0251 - accuracy: 0.9925 - val_loss: 0.0345 - val_accuracy: 0.9910\n",
      "Epoch 4/10\n",
      "844/844 [==============================] - 26s 31ms/step - loss: 0.0190 - accuracy: 0.9941 - val_loss: 0.0293 - val_accuracy: 0.9912\n",
      "Epoch 5/10\n",
      "844/844 [==============================] - 27s 31ms/step - loss: 0.0141 - accuracy: 0.9955 - val_loss: 0.0331 - val_accuracy: 0.9915\n",
      "Epoch 6/10\n",
      "844/844 [==============================] - 26s 31ms/step - loss: 0.0112 - accuracy: 0.9968 - val_loss: 0.0341 - val_accuracy: 0.9908\n",
      "Epoch 7/10\n",
      "844/844 [==============================] - 26s 31ms/step - loss: 0.0088 - accuracy: 0.9970 - val_loss: 0.0412 - val_accuracy: 0.9898\n",
      "Epoch 8/10\n",
      "844/844 [==============================] - 26s 31ms/step - loss: 0.0068 - accuracy: 0.9978 - val_loss: 0.0362 - val_accuracy: 0.9913\n",
      "Epoch 9/10\n",
      "844/844 [==============================] - 26s 30ms/step - loss: 0.0051 - accuracy: 0.9984 - val_loss: 0.0441 - val_accuracy: 0.9892\n",
      "Epoch 10/10\n",
      "844/844 [==============================] - 25s 30ms/step - loss: 0.0051 - accuracy: 0.9984 - val_loss: 0.0438 - val_accuracy: 0.9893\n",
      "313/313 - 1s - loss: 0.0388 - accuracy: 0.9902 - 1s/epoch - 5ms/step\n",
      "Test accuracy with rmsprop optimizer: 0.9901999831199646\n",
      "\n"
     ]
    }
   ],
   "source": [
    "# Train the model with different optimizers and evaluate performance\n",
    "optimizers = ['sgd', 'adam', 'rmsprop']\n",
    "for optimizer_name in optimizers:\n",
    "    print(f\"Training model with {optimizer_name} optimizer...\")\n",
    "    optimizer = tf.keras.optimizers.get(optimizer_name)\n",
    "    model = build_model(optimizer)\n",
    "    \n",
    "    # Train the model\n",
    "    history = model.fit(train_images, train_labels, epochs=10, batch_size=64,\n",
    "                        validation_data=(val_images, val_labels), verbose=1)\n",
    "    \n",
    "    # Evaluate the model on the test set\n",
    "    test_loss, test_acc = model.evaluate(test_images, test_labels, verbose=2)\n",
    "    print(f'Test accuracy with {optimizer_name} optimizer: {test_acc}\\n')"
   ]
  },
  {
   "cell_type": "code",
   "execution_count": null,
   "id": "634ef709",
   "metadata": {},
   "outputs": [],
   "source": []
  },
  {
   "cell_type": "code",
   "execution_count": null,
   "id": "6861b062",
   "metadata": {},
   "outputs": [],
   "source": []
  },
  {
   "cell_type": "code",
   "execution_count": null,
   "id": "4eb0fa39",
   "metadata": {},
   "outputs": [],
   "source": []
  },
  {
   "cell_type": "code",
   "execution_count": null,
   "id": "7997bb00",
   "metadata": {},
   "outputs": [],
   "source": []
  }
 ],
 "metadata": {
  "kernelspec": {
   "display_name": "Python 3 (ipykernel)",
   "language": "python",
   "name": "python3"
  },
  "language_info": {
   "codemirror_mode": {
    "name": "ipython",
    "version": 3
   },
   "file_extension": ".py",
   "mimetype": "text/x-python",
   "name": "python",
   "nbconvert_exporter": "python",
   "pygments_lexer": "ipython3",
   "version": "3.11.4"
  }
 },
 "nbformat": 4,
 "nbformat_minor": 5
}
